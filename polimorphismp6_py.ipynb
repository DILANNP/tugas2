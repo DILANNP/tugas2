{
  "cells": [
    {
      "cell_type": "markdown",
      "metadata": {
        "id": "view-in-github",
        "colab_type": "text"
      },
      "source": [
        "<a href=\"https://colab.research.google.com/github/DILANNP/tugas2/blob/main/polimorphismp6_py.ipynb\" target=\"_parent\"><img src=\"https://colab.research.google.com/assets/colab-badge.svg\" alt=\"Open In Colab\"/></a>"
      ]
    },
    {
      "cell_type": "code",
      "execution_count": null,
      "metadata": {
        "colab": {
          "base_uri": "https://localhost:8080/"
        },
        "id": "9gp3npRRFFkt",
        "outputId": "ce464b06-3f8c-421e-84c3-5c0af1a14e1e"
      },
      "outputs": [
        {
          "name": "stdout",
          "output_type": "stream",
          "text": [
            "12\n",
            "4\n",
            "berlin adalah ibukota negara jerman\n",
            "tokyo adalah ibukota negara jepang\n"
          ]
        }
      ],
      "source": [
        "# polymorphism dengan fungsi\n",
        "\n",
        "print(len(\"polymorphism\"))\n",
        "print(len([0,1,2,3]))\n",
        "\n",
        "'''\n",
        "menggunakan fungsi len\n",
        "output:\n",
        "12 (tipe data string)\n",
        "4 (tipe data list)\n",
        "'''\n",
        "\n",
        "#using class\n",
        "class jerman:\n",
        "  def ibukota(self):\n",
        "    print(\"berlin adalah ibukota negara jerman\")\n",
        "\n",
        "class jepang:\n",
        "  def ibukota(self):\n",
        "    print(\"tokyo adalah ibukota negara jepang\")\n",
        "\n",
        "negara1 = jerman()\n",
        "negara2 = jepang()\n",
        "\n",
        "for country in (negara1,negara2):\n",
        "  country.ibukota()\n"
      ]
    },
    {
      "cell_type": "code",
      "execution_count": null,
      "metadata": {
        "colab": {
          "base_uri": "https://localhost:8080/"
        },
        "id": "2XXOdAnRGu1q",
        "outputId": "a944a576-5836-48c4-94aa-0efd095179e0"
      },
      "outputs": [
        {
          "name": "stdout",
          "output_type": "stream",
          "text": [
            "Meow\n",
            "Guguk\n"
          ]
        }
      ],
      "source": [
        "#polymorphism dengan class\n",
        "\n",
        "class Kucing:\n",
        "  def __init__(self, nama, umur):\n",
        "    self.nama = nama \n",
        "    self.umur = umur\n",
        "\n",
        "  def bersuara(self):\n",
        "    print(\"Meow\")\n",
        "\n",
        "class Dog:\n",
        "  def __init__(self, nama, umur):\n",
        "    self.nama = nama\n",
        "    self.umur = umur\n",
        "\n",
        "  def bersuara(self):\n",
        "    print(\"Guguk\")\n",
        "\n",
        "kucing1 = Kucing(\"Tom\", 3)\n",
        "anjing1 = Dog(\"Spike\", 4)\n",
        "\n",
        "for hewan in (kucing1, anjing1):\n",
        "  hewan.bersuara()"
      ]
    },
    {
      "cell_type": "code",
      "execution_count": null,
      "metadata": {
        "colab": {
          "base_uri": "https://localhost:8080/"
        },
        "id": "PXLlVv54HTsG",
        "outputId": "b8367b05-dd5b-4c55-9ff4-03ede6682ec2"
      },
      "outputs": [
        {
          "output_type": "stream",
          "name": "stdout",
          "text": [
            "Di dunia ini ada beberapa type berbeda dari spesies burung\n",
            "Hampira semua burung dapat terbang, namun ada beberapa burung yang tidak dapat terbang \n",
            "Di dunia ini ada beberapa type berbeda dari spesies burung\n",
            "Burung unta tidaK dapat terbang\n"
          ]
        }
      ],
      "source": [
        "# polymorphism dengan inheritance\n",
        "\n",
        "class Burung:\n",
        "  def intro(self):\n",
        "    print(\"Di dunia ini ada beberapa type berbeda dari spesies burung\")\n",
        "\n",
        "  def terbang(self):\n",
        "    print(\"Hampira semua burung dapat terbang, namun ada beberapa burung yang tidak dapat terbang \")\n",
        "\n",
        "class Elang(Burung):\n",
        "  def terbang(self):\n",
        "    print(\"Elang dapat terbang\")\n",
        "\n",
        "class BurungUnta(Burung):\n",
        "  def terbang(self):\n",
        "    print(\"Burung unta tidaK dapat terbang\")\n",
        "\n",
        "obj_burung = Burung()\n",
        "obj_elang = Elang()\n",
        "obj_burung_unta = BurungUnta()\n",
        "\n",
        "obj_burung.intro()\n",
        "obj_burung.terbang()\n",
        "\n",
        "obj_burung_unta.intro()\n",
        "obj_burung_unta.terbang()"
      ]
    },
    {
      "cell_type": "code",
      "execution_count": null,
      "metadata": {
        "colab": {
          "base_uri": "https://localhost:8080/"
        },
        "id": "a984VmgVwKSL",
        "outputId": "f9f9494c-75f1-4b93-d512-22b182f136bf"
      },
      "outputs": [
        {
          "output_type": "stream",
          "name": "stdout",
          "text": [
            "36\n",
            "24\n"
          ]
        }
      ],
      "source": [
        "# Implementasi kelas abstrak\n",
        "from abc import ABC, abstractmethod\n",
        "class Bentuk(ABC):\n",
        "  @abstractmethod\n",
        "  def luas(self):\n",
        "    return self.__sisi * self.__\n",
        "\n",
        "  @abstractmethod\n",
        "  def keliling(self):\n",
        "    return 4 * self.__sisi\n",
        "\n",
        "class Persegi(Bentuk):\n",
        "  def __init__(self, sisi):\n",
        "    self.__sisi = sisi\n",
        "  def luas(self):\n",
        "    return self.__sisi * self.__sisi\n",
        "  def keliling(self):\n",
        "    return 4 * self.__sisi\n",
        "\n",
        "\n",
        "persegi = Persegi(6)\n",
        "print(persegi.luas())\n",
        "print(persegi.keliling())\n",
        "\n"
      ]
    },
    {
      "cell_type": "code",
      "execution_count": null,
      "metadata": {
        "colab": {
          "base_uri": "https://localhost:8080/"
        },
        "id": "eIW2XH89Iyj0",
        "outputId": "97c29ff3-f3e7-4854-a555-2ecc2570f5e0"
      },
      "outputs": [
        {
          "name": "stdout",
          "output_type": "stream",
          "text": [
            "Nama: Eren Gaji: 2000\n",
            "Nama: luffy Gaji: 6000\n",
            "Tunjangan anak + istri = 4500\n",
            "Tunjangan istri= 2500\n",
            "Total pegawai 2\n",
            "Rata-rata gaji = 4000.0\n"
          ]
        }
      ],
      "source": [
        "# implementasi overloading\n",
        "\n",
        "class Pegawai:\n",
        "  jumlah = 0\n",
        "\n",
        "  def __init__(self, nama, gaji):\n",
        "    self.nama=nama\n",
        "    self.gaji=gaji\n",
        "    Pegawai.jumlah += 1\n",
        "\n",
        "  def tampilJumlah(self):\n",
        "    print(\"Total pegawai\", Pegawai.jumlah)\n",
        "\n",
        "  def tampilPegawai(self):\n",
        "    print(\"Nama:\", self.nama, \"Gaji:\", self.gaji)\n",
        "\n",
        "  #method overloading\n",
        "  def tunjangan(self, istri=None, anak=None):\n",
        "    if anak !=None and istri !=None:\n",
        "      total= anak+istri\n",
        "      print(\"Tunjangan anak + istri =\", total)\n",
        "    else:\n",
        "      total = istri\n",
        "      print(\"Tunjangan istri=\",total)\n",
        "\n",
        "#memanggil class\n",
        "peg1 = Pegawai(\"Eren\", 2000)\n",
        "peg2 = Pegawai(\"luffy\", 6000)\n",
        "peg1.tampilPegawai()\n",
        "peg2.tampilPegawai()\n",
        "peg1.tunjangan(2500,2000)#overloading\n",
        "peg2.tunjangan(2500)#overloading\n",
        "\n",
        "print(\"Total pegawai %d\" % Pegawai.jumlah)\n",
        "rataGaji=(peg1.gaji + peg2.gaji)/Pegawai.jumlah\n",
        "print(\"Rata-rata gaji = \"+str(rataGaji))\n",
        "\n"
      ]
    },
    {
      "cell_type": "code",
      "execution_count": null,
      "metadata": {
        "colab": {
          "base_uri": "https://localhost:8080/",
          "height": 224
        },
        "id": "Wt5r6TMFJhVE",
        "outputId": "44743077-98c7-4829-ab4c-ce78e22e9620"
      },
      "outputs": [
        {
          "output_type": "stream",
          "name": "stdout",
          "text": [
            "Luas Bujur sangkar = 16 m^2\n"
          ]
        },
        {
          "output_type": "error",
          "ename": "AttributeError",
          "evalue": "ignored",
          "traceback": [
            "\u001b[0;31m---------------------------------------------------------------------------\u001b[0m",
            "\u001b[0;31mAttributeError\u001b[0m                            Traceback (most recent call last)",
            "\u001b[0;32m<ipython-input-9-b78af75ac3bf>\u001b[0m in \u001b[0;36m<module>\u001b[0;34m()\u001b[0m\n\u001b[1;32m     20\u001b[0m \u001b[0ms\u001b[0m\u001b[0;34m=\u001b[0m\u001b[0mSegiempat\u001b[0m\u001b[0;34m(\u001b[0m\u001b[0;36m2\u001b[0m\u001b[0;34m,\u001b[0m\u001b[0;36m4\u001b[0m\u001b[0;34m)\u001b[0m\u001b[0;34m\u001b[0m\u001b[0;34m\u001b[0m\u001b[0m\n\u001b[1;32m     21\u001b[0m \u001b[0mb\u001b[0m\u001b[0;34m.\u001b[0m\u001b[0mhitungLuas\u001b[0m\u001b[0;34m(\u001b[0m\u001b[0;34m)\u001b[0m\u001b[0;34m\u001b[0m\u001b[0;34m\u001b[0m\u001b[0m\n\u001b[0;32m---> 22\u001b[0;31m \u001b[0ms\u001b[0m\u001b[0;34m.\u001b[0m\u001b[0mhitungLuas\u001b[0m\u001b[0;34m(\u001b[0m\u001b[0;34m)\u001b[0m\u001b[0;34m\u001b[0m\u001b[0;34m\u001b[0m\u001b[0m\n\u001b[0m",
            "\u001b[0;31mAttributeError\u001b[0m: 'Segiempat' object has no attribute 'hitungLuas'"
          ]
        }
      ],
      "source": [
        "#implementasi overriding\n",
        "\n",
        "class Segiempat():\n",
        "  def __init__(self, panjang, lebar):\n",
        "    self.panjang=panjang\n",
        "    self.lebar=lebar\n",
        "\n",
        "  def hitungluas(self):#method overriding\n",
        "      print(\"Luas Segiempat =\", self.panjang * self.lebar, \"m^2\")\n",
        "\n",
        "class Bujursangkar(Segiempat):\n",
        "  def __init__(self,sisi):\n",
        "    self.side=sisi\n",
        "    Segiempat.__init__(self,sisi,sisi)\n",
        "\n",
        "  def hitungLuas(self):#method overriding\n",
        "      print(\"Luas Bujur sangkar =\", self.side * self.side, \"m^2\")\n",
        "\n",
        "b=Bujursangkar(4)\n",
        "s=Segiempat(2,4)\n",
        "b.hitungLuas()\n",
        "s.hitungLuas()"
      ]
    },
    {
      "cell_type": "code",
      "execution_count": null,
      "metadata": {
        "colab": {
          "base_uri": "https://localhost:8080/"
        },
        "id": "1zwxAoW8No3P",
        "outputId": "c7d1a721-6234-4294-fe82-fd7ccee359ad"
      },
      "outputs": [
        {
          "name": "stdout",
          "output_type": "stream",
          "text": [
            "Nama: Eren , nim: 123180015\n",
            "Nama: Luffy , nim: 123190007\n",
            "Total sks = 114\n",
            "Total sks= 83\n"
          ]
        }
      ],
      "source": [
        "# implementasi overloading\n",
        "\n",
        "class Mahasiswa:\n",
        "  def __init__(self,nama,nim):\n",
        "    self.nama = nama\n",
        "    self.nim = nim\n",
        "\n",
        "\n",
        "  def tampilMhs(self):\n",
        "    print(\"Nama:\", self.nama, \", nim:\", self.nim)\n",
        "\n",
        "  #method overloading\n",
        "  def hitungSKS(self, jmlsks=None, sks=None):\n",
        "    if jmlsks !=None and sks!=None:\n",
        "      totalsks = jmlsks+sks\n",
        "      print(\"Total sks =\", totalsks)\n",
        "    else:\n",
        "      totalsks = jmlsks\n",
        "      print(\"Total sks=\", totalsks)\n",
        "\n",
        "#memanggil kelas\n",
        "mhs1 = Mahasiswa(\"Eren\", 123180015)\n",
        "mhs2 = Mahasiswa(\"Luffy\", 123190007)\n",
        "mhs1.tampilMhs()\n",
        "mhs2.tampilMhs()\n",
        "mhs1.hitungSKS(80,34)#overloading\n",
        "mhs2.hitungSKS(83)#overloading"
      ]
    },
    {
      "cell_type": "code",
      "execution_count": null,
      "metadata": {
        "colab": {
          "background_save": true
        },
        "id": "WBKDby3TzmSB",
        "outputId": "712e66ef-8408-427f-dbda-88527c0da511"
      },
      "outputs": [
        {
          "name": "stdout",
          "output_type": "stream",
          "text": [
            "Nama : Komputer Desktop Gaming , Harga : Rp 15.634.000\n",
            "Stok ada banyak\n",
            "\n",
            "Nama : MSI H510M , Harga : Rp 2.150.000\n",
            "Stok sedikit!\n",
            "\n",
            "Nama : Intel Core i9 11400F , Harga : Rp 7.535.000\n",
            "Stok ada banyak\n",
            "\n",
            "Nama : GTX 1050 Ti 4GB GDDR5 , Harga : Rp 4.950.000\n",
            "Stok ada banyak\n",
            "\n",
            "Nama : Klevv Bolt DDR4-3200 16GB , Harga : Rp 750.000\n",
            "Stok sedikit!\n",
            "\n",
            "Nama : SSD SATA 512 GB , Harga : Rp 749.000\n",
            "Stok sedikit!\n"
          ]
        }
      ],
      "source": [
        "# Implementasi Overloading Class ComputerPart\n",
        "class ComputerPart():\n",
        "  def __init__(self,nama,harga): \n",
        "    self.nama = nama \n",
        "    self.harga = harga\n",
        "  def data(self):\n",
        "    print('Nama :',self.nama,', Harga :',self.harga)\n",
        "  \n",
        "# Method Overloading\n",
        "  def stok(self,stok): \n",
        "    if stok >= 10:\n",
        "      print(\"Stok ada banyak\")\n",
        "    else:\n",
        "      print(\"Stok sedikit!\")\n",
        "\n",
        "# Memanggil Kelas\n",
        "pc = ComputerPart('Komputer Desktop Gaming','Rp 15.634.000')\n",
        "pc.data()\n",
        "pc.stok(10) # Overloading\n",
        "print()\n",
        "mb = ComputerPart('MSI H510M','Rp 2.150.000')\n",
        "mb.data()\n",
        "mb.stok(4) # Overloading\n",
        "print()\n",
        "cpu = ComputerPart('Intel Core i9 11400F','Rp 7.535.000')\n",
        "cpu.data()\n",
        "cpu.stok(12) # Overloading\n",
        "print()\n",
        "gpu = ComputerPart('GTX 1050 Ti 4GB GDDR5','Rp 4.950.000')\n",
        "gpu.data()\n",
        "gpu.stok(23) # Overloading\n",
        "print()\n",
        "ram = ComputerPart('Klevv Bolt DDR4-3200 16GB','Rp 050.000')\n",
        "ram.data()\n",
        "ram.stok(5) # Overloading\n",
        "print()\n",
        "hdd = ComputerPart('SSD Adata SX8200 Pro M.2 NVME 512 GB','Rp 949.000')\n",
        "hdd.data()\n",
        "hdd.stok(4) # Overloading\n"
      ]
    }
  ],
  "metadata": {
    "colab": {
      "collapsed_sections": [],
      "name": "polimorphismp6.py",
      "provenance": [],
      "authorship_tag": "ABX9TyM6MzXB8ajbs4OU5s+P8cjZ",
      "include_colab_link": true
    },
    "kernelspec": {
      "display_name": "Python 3",
      "name": "python3"
    },
    "language_info": {
      "name": "python"
    }
  },
  "nbformat": 4,
  "nbformat_minor": 0
}