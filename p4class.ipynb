{
  "nbformat": 4,
  "nbformat_minor": 0,
  "metadata": {
    "colab": {
      "name": "p4class.ipynb",
      "provenance": [],
      "authorship_tag": "ABX9TyMctQYT9oitq31tVR3aY3XX",
      "include_colab_link": true
    },
    "kernelspec": {
      "name": "python3",
      "display_name": "Python 3"
    },
    "language_info": {
      "name": "python"
    }
  },
  "cells": [
    {
      "cell_type": "markdown",
      "metadata": {
        "id": "view-in-github",
        "colab_type": "text"
      },
      "source": [
        "<a href=\"https://colab.research.google.com/github/DILANNP/tugas2/blob/main/p4class.ipynb\" target=\"_parent\"><img src=\"https://colab.research.google.com/assets/colab-badge.svg\" alt=\"Open In Colab\"/></a>"
      ]
    },
    {
      "cell_type": "code",
      "execution_count": 1,
      "metadata": {
        "id": "qN8YUdU0_H01"
      },
      "outputs": [],
      "source": [
        "class Segitiga:\n",
        "  def __init__(self,alas, tinggi):\n",
        "    self.alas = alas\n",
        "    self.tinggi = tinggi\n",
        "    self.luas = 0.5 * alas * tinggi"
      ]
    },
    {
      "cell_type": "code",
      "source": [
        "segitiga_besar = Segitiga(100,80)\n",
        "\n",
        "print(\"alas: \",segitiga_besar.alas)\n",
        "print(\"tinggi: \",segitiga_besar.tinggi)\n",
        "print(\"luas: \",segitiga_besar.luas)\n",
        "\n",
        "#Program ini digunakan untuk mencari Luas dari suatu segitiga"
      ],
      "metadata": {
        "colab": {
          "base_uri": "https://localhost:8080/"
        },
        "id": "EHT-YAau_pZJ",
        "outputId": "1f3804f3-4330-45e6-9ac2-2c5748758bd5"
      },
      "execution_count": 2,
      "outputs": [
        {
          "output_type": "stream",
          "name": "stdout",
          "text": [
            "alas:  100\n",
            "tinggi:  80\n",
            "luas:  4000.0\n"
          ]
        }
      ]
    },
    {
      "cell_type": "code",
      "source": [
        "#protected\n",
        "class Utama:\n",
        "  def __init__(self):\n",
        "    self._a = 2\n",
        "\n",
        "class Turunan(Utama):\n",
        "  def __init__(self):\n",
        "      Utama.__init__(self)\n",
        "      print(\"Memanggil variabel protected pada class Utama: \",self._a)\n",
        "\n",
        "      self._a = 3\n",
        "      print(\"Memanggil variabel protected yang dimodifikasi diluar class: \",self._a)\n",
        "\n",
        "objek1 = Turunan()\n",
        "objek2 = Utama()\n",
        "\n",
        "print(\"mengakses variabel protected dari objek1: \", objek1._a)\n",
        "print(\"mengakses variabe1 protected dari objek2: \", objek2._a)\n",
        "\n",
        "#program ini mencontohkan bagaimana cara menambahkan suatu variabel dari luar class utama melalui kelas turunan"
      ],
      "metadata": {
        "colab": {
          "base_uri": "https://localhost:8080/"
        },
        "id": "LYI-u2AVAQKL",
        "outputId": "1850a528-0207-410b-9de1-b94d0df54a07"
      },
      "execution_count": 14,
      "outputs": [
        {
          "output_type": "stream",
          "name": "stdout",
          "text": [
            "Memanggil variabel protected pada class Utama:  2\n",
            "Memanggil variabel protected yang dimodifikasi diluar class:  3\n",
            "mengakses variabel protected dari objek1:  3\n",
            "mengakses variabe1 protected dari objek2:  2\n"
          ]
        }
      ]
    },
    {
      "cell_type": "code",
      "source": [
        "#private\n",
        "class Hitung:\n",
        "  def __init__(self):\n",
        "    self. __angkaRahasia=0\n",
        "\n",
        "  def tampilkanHitung(self):\n",
        "    self. __angkaRahasia += 1\n",
        "    print (self. __angkaRahasia)\n",
        "\n",
        "hitungan=Hitung()\n",
        "hitungan.tampilkanHitung()\n",
        "\n",
        "#program diatas diperuntukan untuk manambahkan atau mengisi suatu variabel private "
      ],
      "metadata": {
        "colab": {
          "base_uri": "https://localhost:8080/"
        },
        "id": "4DCw1AmvC0sh",
        "outputId": "3495a23b-40fd-475e-bb96-73252df76679"
      },
      "execution_count": 9,
      "outputs": [
        {
          "output_type": "stream",
          "name": "stdout",
          "text": [
            "1\n"
          ]
        }
      ]
    },
    {
      "cell_type": "code",
      "source": [
        "#public\n",
        "class Mobil():\n",
        "  def __init__(self,jendela,pintu,mesin):\n",
        "    self.jendela=jendela\n",
        "    self.pintu=pintu\n",
        "    self.mesin=mesin\n",
        "\n",
        "#program diatas menunjukan cara membuat sebuah kelas publik"
      ],
      "metadata": {
        "id": "RNG1zStCDdUY"
      },
      "execution_count": 15,
      "outputs": []
    },
    {
      "cell_type": "code",
      "source": [
        "#protected\n",
        "class Mobil():\n",
        "  def __init__(self,jendela,pintu,mesin):\n",
        "    self._jendela=jendela\n",
        "    self._pintu=pintu\n",
        "    self._mesin=mesin\n",
        "\n",
        "#program diatas menunjukan cara membuat sebuah kelas protected"
      ],
      "metadata": {
        "id": "HxulxZyqEMW6"
      },
      "execution_count": null,
      "outputs": []
    },
    {
      "cell_type": "code",
      "source": [
        "class Truck(Mobil):\n",
        "  def __init__(self,jendela,pintu,mesin):\n",
        "    super().__init__(jendela,pintu,mesin)\n",
        "    self.tipebak=tipe"
      ],
      "metadata": {
        "id": "UmeT1u5JEVPN"
      },
      "execution_count": 16,
      "outputs": []
    },
    {
      "cell_type": "code",
      "source": [
        "#private\n",
        "class Mobil():\n",
        "  def __init__(self,jendela,pintu,mesin):\n",
        "    self.__jendela=jendela\n",
        "    self.__pintu=pintu\n",
        "    self.__mesin=mesin\n",
        "\n",
        "#program diatas menunjukan cara membuat sebuah kelas private"
      ],
      "metadata": {
        "id": "9BDvEFOjEX8E"
      },
      "execution_count": null,
      "outputs": []
    },
    {
      "cell_type": "code",
      "source": [
        "class Pegawai:\n",
        "  __nama=\"\"\n",
        "  __alamat=\"\"\n",
        "  __gaji=0\n",
        "\n",
        "  def __init__(self,nama,alamat):\n",
        "    self.__nama=nama\n",
        "    self.__alamat=alamat\n",
        "\n",
        "  def __hitunganGaji(self):\n",
        "    upahLembur=20000\n",
        "    gajiPokok=2000000\n",
        "    JumlahLembur=int(input(\"Total jam lembur: \"))\n",
        "    self.__gaji=(upahLembur*JumlahLembur)+gajiPokok\n",
        "\n",
        "  def tampilDetail(self):\n",
        "    print(\"\\n--Menghitung dan menampilkan Detail Gaji Pegawai--\")\n",
        "    print(\"Nama: \",self.__nama)\n",
        "    print(\"Alamat: \",self.__alamat)\n",
        "    self.__hitungGaji()\n",
        "    print(\"Total Gaji: \", self.__gaji\n",
        "          \n",
        "pgw1=pegawai(\"Mikasa Ackerman\",\"wall Rose\")\n",
        "pgw1.tampilDetail()\n",
        "\n",
        "pgw2=pegawai(\"Saya Kisaragi\",\"prefektur Nagano\")\n",
        "pgw2.tampilDetail()\n",
        "\n",
        "#program ini diisi oleh atribut2 private dan program ini digunakan untuk manampilkan nama,gaji dan alamat dari 2 orang pegawai"
      ],
      "metadata": {
        "id": "UwZ5kqduE5ci"
      },
      "execution_count": null,
      "outputs": []
    },
    {
      "cell_type": "code",
      "source": [
        "class Buku:\n",
        "  __tersisa = 0\n",
        "  def __init__(self,judul,pengarang,tahun_terbit,harga,diskon):\n",
        "    self.judul = judul\n",
        "    self.pengarang = pengarang\n",
        "    self.tahun_terbit = tahun_terbit\n",
        "    self.harga = harga\n",
        "    self.diskon = diskon\n",
        "\n",
        "  def jml(self,input_tersisa):\n",
        "    self.__tersisa += input_tersisa\n",
        "\n",
        "  def check_status(self):\n",
        "    if self.__tersisa <= 5:\n",
        "      print(self.judul,'Ada sedikit')\n",
        "    else:\n",
        "      print(self.judul,'Ada Banyak')\n",
        "\n",
        "judul = Buku('Tenggelamnya kapal van der wijk','HAMKA',1938,45000,'10%')\n",
        "t = 'Buku {} karangan {} pertama kali diterbitkan tahun {} harga Rp {} diskon {}'.format(buku.judul,buku.pengarang,buku.tahun_terbit,buku.harga,buku.diskon)\n",
        "print(t)\n",
        "\n",
        "judul.jml(10)\n",
        "judul.check_status()\n",
        "\n",
        "#program ini melihatkan susunan atau cara menambahkan suatu atribut private kedalam suatu class yang memiliki banyak atribut publik"
      ],
      "metadata": {
        "colab": {
          "base_uri": "https://localhost:8080/"
        },
        "id": "X-s2med3HPhA",
        "outputId": "5680b451-4653-45e3-a41c-87c0f59516a9"
      },
      "execution_count": 59,
      "outputs": [
        {
          "output_type": "stream",
          "name": "stdout",
          "text": [
            "Buku Tenggelamnya kapal van der wijk karangan HAMKA pertama kali diterbitkan tahun 1938 harga Rp 45000 diskon 10%\n",
            "Tenggelamnya kapal van der wijk Ada Banyak\n"
          ]
        }
      ]
    },
    {
      "cell_type": "code",
      "source": [
        "class Mahasiswa:\n",
        "  jurusan = \"informatika\"\n",
        "  __nilai = 0  #private\n",
        "  def __init__(self,nama,nim,prodi,asal,umur,thn_masuk):\n",
        "    self.nama = nama\n",
        "    self.nim = nim\n",
        "    self.prodi = prodi\n",
        "    self.asal = asal\n",
        "    self.umur = umur\n",
        "    self.thn_masuk = thn_masuk\n",
        "\n",
        "  def uts(self,input_nilai):\n",
        "    self.__nilai += input_nilai\n",
        "\n",
        "  def uas(self,input_nilai):\n",
        "    self.__nilai += input_nilai\n",
        "\n",
        "  def check_status(self):\n",
        "    if self.__nilai <= 50:\n",
        "      print(self.nama,'tidak lulus')\n",
        "    else:\n",
        "      print(self.nama,' lulus')\n",
        "\n",
        "udin = Mahasiswa('Udin','10120371','sistem informasi','magetan',18,2020)\n",
        "\n",
        "udin.uts(30)\n",
        "udin.uas(10)\n",
        "\n",
        "udin.check_status()\n",
        "\n",
        "#program ini merupakan suatu program publik tetapi ditambahkan satu atribut private yaitu nilai"
      ],
      "metadata": {
        "colab": {
          "base_uri": "https://localhost:8080/"
        },
        "id": "GJtYXSE1E2PH",
        "outputId": "31c0e596-1de6-4fc4-ebb5-703f1760f309"
      },
      "execution_count": 42,
      "outputs": [
        {
          "output_type": "stream",
          "name": "stdout",
          "text": [
            "Udin tidak lulus\n"
          ]
        }
      ]
    },
    {
      "cell_type": "code",
      "source": [
        "class MenuMinuman:\n",
        "  __minimal_pesan = 0\n",
        "  def __init__(self,nama,deskripsi,ukuran,jumlah,harga):\n",
        "    self.nama = nama\n",
        "    self.deskripsi = deskripsi\n",
        "    self.ukuran = ukuran\n",
        "    self.jumlah = jumlah\n",
        "    self.harga = harga\n",
        "\n",
        "  def jml(self,input_minimal_pesan):\n",
        "    self.__minimal_pesan += input_minimal_pesan\n",
        "\n",
        "  def check_status(self):\n",
        "    if self.__minimal_pesan <= 1:\n",
        "      print(self.nama,'tidak diproses')\n",
        "    else:\n",
        "      print(self.nama,'sedang diproses')\n",
        "\n",
        "\n",
        "mnm1 = MenuMinuman('Jus Jambu','Jus jambu merah tanpa gula','besar',2,8500)\n",
        "mnm2 = MenuMinuman('Jus Alpukat Ori','Jus alpukat dengan campuran susu cokelat dan campuran kepingan choco','kecil',1,15000)\n",
        "mnm3 = MenuMinuman('Jus alpukat xtra milk','jus alpukat tambahan gula merah','sedang',1,15000)\n",
        "mnm4 = MenuMinuman('red & smooth','shmoothie pisang susu dengan strawberry','besar',3,30000)\n",
        "\n",
        "pilihan_minuman = [mnm1,mnm2,mnm3,mnm4]\n",
        "print(\"daftar menu healthy fruits\")\n",
        "for mn in pilihan_minuman:\n",
        "    t = '{} ukuran {} jumlah {} harga Rp {}'.format(mn.nama,mn.ukuran,mn.jumlah,mn.harga)\n",
        "    print(t)\n",
        "mn.jml(5)\n",
        "mn.check_status()\n",
        "#program ini melakukan suatu penambahan atribut private(minimal_pesan) pada sebuah kelas publik"
      ],
      "metadata": {
        "colab": {
          "base_uri": "https://localhost:8080/"
        },
        "id": "NEuKzKmcHqU8",
        "outputId": "5a1b950e-638e-48e4-8ec6-920f6de80504"
      },
      "execution_count": 63,
      "outputs": [
        {
          "output_type": "stream",
          "name": "stdout",
          "text": [
            "daftar menu healthy fruits\n",
            "Jus Jambu ukuran besar jumlah 2 harga Rp 8500\n",
            "Jus Alpukat Ori ukuran kecil jumlah 1 harga Rp 15000\n",
            "Jus alpukat xtra milk ukuran sedang jumlah 1 harga Rp 15000\n",
            "red & smooth ukuran besar jumlah 3 harga Rp 30000\n",
            "-------------\n",
            "red & smooth sedang diproses\n"
          ]
        }
      ]
    },
    {
      "cell_type": "code",
      "source": [
        "class Latihan:\n",
        "  def __init__(self,aku,sedang,kegiatan):\n",
        "    self.aku = aku\n",
        "    self.sedang = sedang\n",
        "    self.kegiatan = kegiatan\n",
        "lth = Latihan(\"sekarang\",\"melakukan\",\"latihan\")\n",
        "t = 'aku {} sedang {} kegiatan {}'.format(lth.aku,lth.sedang,lth.kegiatan)\n",
        "print(t)\n",
        "\n",
        "#program latihan menggunakan atribut publik"
      ],
      "metadata": {
        "colab": {
          "base_uri": "https://localhost:8080/"
        },
        "id": "sADo4jDNjsfm",
        "outputId": "b902fbc5-341a-4c58-a1f4-435242331d74"
      },
      "execution_count": 80,
      "outputs": [
        {
          "output_type": "stream",
          "name": "stdout",
          "text": [
            "aku sekarang sedang melakukan kegiatan latihan\n"
          ]
        }
      ]
    }
  ]
}