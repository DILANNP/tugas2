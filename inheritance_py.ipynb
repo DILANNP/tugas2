{
  "nbformat": 4,
  "nbformat_minor": 0,
  "metadata": {
    "colab": {
      "name": "inheritance.py",
      "provenance": [],
      "collapsed_sections": [],
      "authorship_tag": "ABX9TyNUlYXsIb4LuegLKIElvuRU",
      "include_colab_link": true
    },
    "kernelspec": {
      "name": "python3",
      "display_name": "Python 3"
    },
    "language_info": {
      "name": "python"
    }
  },
  "cells": [
    {
      "cell_type": "markdown",
      "metadata": {
        "id": "view-in-github",
        "colab_type": "text"
      },
      "source": [
        "<a href=\"https://colab.research.google.com/github/DILANNP/tugas2/blob/main/inheritance_py.ipynb\" target=\"_parent\"><img src=\"https://colab.research.google.com/assets/colab-badge.svg\" alt=\"Open In Colab\"/></a>"
      ]
    },
    {
      "cell_type": "code",
      "execution_count": null,
      "metadata": {
        "id": "sQkjD6K7yHDq"
      },
      "outputs": [],
      "source": [
        "class ComputerPart:\n",
        "  def __init__(self,pabrikan,nama,jenis,harga):\n",
        "    self.pabrikan = pabrikan\n",
        "    self.nama = nama\n",
        "    self.jenis = jenis\n",
        "    self.harga = harga\n",
        "\n",
        "class Processor(ComputerPart):\n",
        "  def __init__(self,pabrikan,nama,jenis,harga,jumlah_core,speed):\n",
        "    super().__init__(pabrikan,nama,'processor',harga)\n",
        "    self.jumlah_core = jumlah_core\n",
        "    self.speed = speed\n",
        "\n",
        "class RandomAccessMemory(ComputerPart):\n",
        "  def __init__(self,pabrikan,nama,harga,kapasitas):\n",
        "    super().__init__(pabrikan,nama,'RAM',harga)\n",
        "    self.kapasitas = kapasitas\n",
        "\n",
        "class HardiskSATA(ComputerPart):\n",
        "  def __init__(self,pabrikan,nama,harga,kapasitas,rpm):\n",
        "    super().__init__(pabrikan,nama,'SATA',harga)\n",
        "    self.kapasitas = kapasitas\n",
        "    self.rpm = rpm\n"
      ]
    },
    {
      "cell_type": "code",
      "source": [
        "p = Processor('Intel','Core i7 7740x',4350000,4,'4.3GHz')\n",
        "m = RandomAccessMemory('V-Gen','DDR4 SODimm PC19200/2400MHz',328000,'4GB')\n",
        "hdd = HardDiskSATA('Seagte','HDD 2.5 inch',295000,'500GB',7200)\n",
        "\n",
        "parts = [p,m,hdd]\n",
        "for part in parts:\n",
        "  print('{} {} produksi {}'.format(part.jenis,part.nama,part.pabrikan))"
      ],
      "metadata": {
        "id": "glqa20rG0OAy"
      },
      "execution_count": null,
      "outputs": []
    },
    {
      "cell_type": "code",
      "source": [
        "#singel inheritance\n",
        "\n",
        "class Mahasiswa:\n",
        "  def __init__(self, nama, nim):\n",
        "    self.nama = nama\n",
        "    self.nim = nim\n",
        "\n",
        "    def detailMhs(self):\n",
        "      return self.nim, self.nama\n",
        "\n",
        "    def cekMhs(self):\n",
        "      if self.nim < 150000:\n",
        "        return \"mahasiswa aktif\"\n",
        "      else:\n",
        "        return \"mahasiswa tidak terdaftar\"\n",
        "\n",
        "class Siswa(Mahasiswa):\n",
        "  def End(self):\n",
        "    print(\"mahasiswa belum melakukan daftar ulang\")\n",
        "\n",
        "mahasiswa1 = Mahasiswa(\"mahasiswa 1\",135103)\n",
        "print(mahasiswa1.detailMhs(), mahasiswa1.cekMhs())\n",
        "Mahasiswa2 = Mahasiswa(\"mahasiswa 2\",150503)\n",
        "print(mahasiswa2.detailMhs(), mahasiswa1.cekMhs())\n",
        "mahasiswa2.End()"
      ],
      "metadata": {
        "colab": {
          "base_uri": "https://localhost:8080/",
          "height": 241
        },
        "id": "O4OD-Zwz1ZAV",
        "outputId": "816f4558-20ef-4edb-b197-69dae2be8413"
      },
      "execution_count": null,
      "outputs": [
        {
          "output_type": "error",
          "ename": "AttributeError",
          "evalue": "ignored",
          "traceback": [
            "\u001b[0;31m---------------------------------------------------------------------------\u001b[0m",
            "\u001b[0;31mAttributeError\u001b[0m                            Traceback (most recent call last)",
            "\u001b[0;32m<ipython-input-27-785e77da3e82>\u001b[0m in \u001b[0;36m<module>\u001b[0;34m()\u001b[0m\n\u001b[1;32m     20\u001b[0m \u001b[0;34m\u001b[0m\u001b[0m\n\u001b[1;32m     21\u001b[0m \u001b[0mmahasiswa1\u001b[0m \u001b[0;34m=\u001b[0m \u001b[0mMahasiswa\u001b[0m\u001b[0;34m(\u001b[0m\u001b[0;34m\"mahasiswa 1\"\u001b[0m\u001b[0;34m,\u001b[0m\u001b[0;36m135103\u001b[0m\u001b[0;34m)\u001b[0m\u001b[0;34m\u001b[0m\u001b[0;34m\u001b[0m\u001b[0m\n\u001b[0;32m---> 22\u001b[0;31m \u001b[0mprint\u001b[0m\u001b[0;34m(\u001b[0m\u001b[0mMahasiswa1\u001b[0m\u001b[0;34m.\u001b[0m\u001b[0mdetailMhs\u001b[0m\u001b[0;34m(\u001b[0m\u001b[0;34m)\u001b[0m\u001b[0;34m,\u001b[0m \u001b[0mMahasiswa1\u001b[0m\u001b[0;34m.\u001b[0m\u001b[0mcekMhs\u001b[0m\u001b[0;34m(\u001b[0m\u001b[0;34m)\u001b[0m\u001b[0;34m)\u001b[0m\u001b[0;34m\u001b[0m\u001b[0;34m\u001b[0m\u001b[0m\n\u001b[0m\u001b[1;32m     23\u001b[0m \u001b[0mMahasiswa2\u001b[0m \u001b[0;34m=\u001b[0m \u001b[0mMahasiswa\u001b[0m\u001b[0;34m(\u001b[0m\u001b[0;34m\"mahasiswa 2\"\u001b[0m\u001b[0;34m,\u001b[0m\u001b[0;36m150503\u001b[0m\u001b[0;34m)\u001b[0m\u001b[0;34m\u001b[0m\u001b[0;34m\u001b[0m\u001b[0m\n\u001b[1;32m     24\u001b[0m \u001b[0mprint\u001b[0m\u001b[0;34m(\u001b[0m\u001b[0mmahasiswa2\u001b[0m\u001b[0;34m.\u001b[0m\u001b[0mdetailMhs\u001b[0m\u001b[0;34m(\u001b[0m\u001b[0;34m)\u001b[0m\u001b[0;34m,\u001b[0m \u001b[0mmahasiswa1\u001b[0m\u001b[0;34m.\u001b[0m\u001b[0mcekMhs\u001b[0m\u001b[0;34m(\u001b[0m\u001b[0;34m)\u001b[0m\u001b[0;34m)\u001b[0m\u001b[0;34m\u001b[0m\u001b[0;34m\u001b[0m\u001b[0m\n",
            "\u001b[0;31mAttributeError\u001b[0m: type object 'Mahasiswa1' has no attribute 'detailMhs'"
          ]
        }
      ]
    },
    {
      "cell_type": "code",
      "source": [
        "#multilevel\n",
        "\n",
        "class Mahasiswa:\n",
        "  def __init__(self, nama, nim):\n",
        "    self.nama = nama\n",
        "    self.nim = nim\n",
        "\n",
        "class Siswa1(Mahasiswa):\n",
        "  def __init__(self, nama, nim):\n",
        "    self.nama = nama\n",
        "    self.nim = nim\n",
        "\n",
        "class Siswa2(Siswa1):\n",
        "  def __init__(self, nama, nim):\n",
        "    self.nama = nama\n",
        "    self.nim = nim\n",
        "\n",
        "mhs1=Mahasiswa('Mikasa',135105)\n",
        "mhs2=Siswa1('Nezuko',135117)\n",
        "mhs3=Siswa2('Hancok',134079)\n",
        "\n",
        "print(mhs.nama, mhs.nim)\n",
        "print(mhs2.nim)\n",
        "print(mhs3.nama)\n"
      ],
      "metadata": {
        "colab": {
          "base_uri": "https://localhost:8080/",
          "height": 241
        },
        "id": "WB0MeveY20cJ",
        "outputId": "cef090e6-33e2-4f53-b13f-c8154f4d2ec4"
      },
      "execution_count": null,
      "outputs": [
        {
          "output_type": "error",
          "ename": "NameError",
          "evalue": "ignored",
          "traceback": [
            "\u001b[0;31m---------------------------------------------------------------------------\u001b[0m",
            "\u001b[0;31mNameError\u001b[0m                                 Traceback (most recent call last)",
            "\u001b[0;32m<ipython-input-13-c7380e6c22fd>\u001b[0m in \u001b[0;36m<module>\u001b[0;34m()\u001b[0m\n\u001b[1;32m     20\u001b[0m \u001b[0mmhs3\u001b[0m\u001b[0;34m=\u001b[0m\u001b[0mSiswa2\u001b[0m\u001b[0;34m(\u001b[0m\u001b[0;34m'Hancok'\u001b[0m\u001b[0;34m,\u001b[0m\u001b[0;36m134079\u001b[0m\u001b[0;34m)\u001b[0m\u001b[0;34m\u001b[0m\u001b[0;34m\u001b[0m\u001b[0m\n\u001b[1;32m     21\u001b[0m \u001b[0;34m\u001b[0m\u001b[0m\n\u001b[0;32m---> 22\u001b[0;31m \u001b[0mprint\u001b[0m\u001b[0;34m(\u001b[0m\u001b[0mmhs\u001b[0m\u001b[0;34m.\u001b[0m\u001b[0mnama\u001b[0m\u001b[0;34m,\u001b[0m \u001b[0mmhs\u001b[0m\u001b[0;34m.\u001b[0m\u001b[0mnim\u001b[0m\u001b[0;34m)\u001b[0m\u001b[0;34m\u001b[0m\u001b[0;34m\u001b[0m\u001b[0m\n\u001b[0m\u001b[1;32m     23\u001b[0m \u001b[0mprint\u001b[0m\u001b[0;34m(\u001b[0m\u001b[0mmhs2\u001b[0m\u001b[0;34m.\u001b[0m\u001b[0mnim\u001b[0m\u001b[0;34m)\u001b[0m\u001b[0;34m\u001b[0m\u001b[0;34m\u001b[0m\u001b[0m\n\u001b[1;32m     24\u001b[0m \u001b[0mprint\u001b[0m\u001b[0;34m(\u001b[0m\u001b[0mmhs3\u001b[0m\u001b[0;34m,\u001b[0m\u001b[0mnama\u001b[0m\u001b[0;34m)\u001b[0m\u001b[0;34m\u001b[0m\u001b[0;34m\u001b[0m\u001b[0m\n",
            "\u001b[0;31mNameError\u001b[0m: name 'mhs' is not defined"
          ]
        }
      ]
    },
    {
      "cell_type": "code",
      "source": [
        "#hierarchical\n",
        "\n",
        "class Mahasiswa():\n",
        "  def __init__(self,nama,nim):\n",
        "    self.nama=nama\n",
        "    self.nim=nim\n",
        "\n",
        "class Siswa1(Mahasiswa):\n",
        "  def __init__(self, nama, nim):\n",
        "    self.nama=nama\n",
        "    self.nim=nim\n",
        "\n",
        "  def detSiswa1(self):\n",
        "    print(self.nama,'alamat: Wall rose')\n",
        "\n",
        "class Siswa2(Mahasiswa):\n",
        "  def __init__(self, nama, nim):\n",
        "    self.nama=nama\n",
        "    self.nim=nim\n",
        "\n",
        "  def detSiswa2(self):\n",
        "    print(self.nama,'jurusan: Informatika')\n",
        "\n",
        "mhs1=Siswa1('Nezuko',135117)\n",
        "mhs2=Siswa2('Hancok',134079)\n",
        "\n",
        "print(mhs1.nim)\n",
        "mhs1.detSiswa1()\n",
        "print(mhs2.nim)\n",
        "mhs2.detSiswa2()"
      ],
      "metadata": {
        "colab": {
          "base_uri": "https://localhost:8080/"
        },
        "id": "_P3Jfebm5_tM",
        "outputId": "09a36d7a-917f-4541-c042-62463a5f6475"
      },
      "execution_count": null,
      "outputs": [
        {
          "output_type": "stream",
          "name": "stdout",
          "text": [
            "135117\n",
            "Nezuko alamat: Wall rose\n",
            "134079\n",
            "Hancok jurusan: Informatika\n"
          ]
        }
      ]
    },
    {
      "cell_type": "code",
      "source": [
        "#multiple \n",
        "\n",
        "class Mahasiswa1():\n",
        "  def __init__(self,nama,nim):\n",
        "    self.nama=nama\n",
        "    self.nim=nim\n",
        "\n",
        "class Mahasiswa2():\n",
        "  def __init__(self,alamat,jurusan):\n",
        "    self.alamat=alamat\n",
        "    self.jurusan=jurusan\n",
        "\n",
        "class Siswa(Mahasiswa1, Mahasiswa2):\n",
        "  def __init__(self,nama,nim,alamat,jurusan):\n",
        "    Mahasiswa1.__init__(self,nama,nim)\n",
        "    Mahasiswa2.__init__(self,alamat,jurusan)\n",
        "\n",
        "s=Siswa('Mikasa',135105,'Wall rose','Informatika')\n",
        "print('nim',s.nim, 'nama:',s.nama, 'alamat:',s.alamat, 'jurusan:',s.jurusan)\n",
        "\n",
        "\n",
        " "
      ],
      "metadata": {
        "colab": {
          "base_uri": "https://localhost:8080/"
        },
        "id": "el_1eaa67WMi",
        "outputId": "4abf9fb8-ea94-45a8-c520-c30421819aae"
      },
      "execution_count": null,
      "outputs": [
        {
          "output_type": "stream",
          "name": "stdout",
          "text": [
            "nim 135105 nama: Mikasa alamat: Wall rose jurusan: Informatika\n"
          ]
        }
      ]
    },
    {
      "cell_type": "code",
      "source": [
        "# singel inherritance\n",
        "\n",
        "#parent class\n",
        "class Hewan:\n",
        "  def bersuara(self):\n",
        "    print('kucing bersuara')\n",
        "\n",
        "#child class mewarisi kelas hewan\n",
        "class Kucing(Hewan):\n",
        "  def suara(self):\n",
        "    print('meong...meong...meong...')\n",
        "\n",
        "#objek\n",
        "k=Kucing()\n",
        "k.suara()\n",
        "k.bersuara()\n"
      ],
      "metadata": {
        "colab": {
          "base_uri": "https://localhost:8080/"
        },
        "id": "FEt5J6zE-Zpz",
        "outputId": "501511c2-f9ab-4a83-81ac-bf24b8efdc60"
      },
      "execution_count": null,
      "outputs": [
        {
          "output_type": "stream",
          "name": "stdout",
          "text": [
            "meong...meong...meong...\n",
            "kucing bersuara\n"
          ]
        }
      ]
    },
    {
      "cell_type": "code",
      "source": [
        "#multilevel \n",
        "\n",
        "#parent class\n",
        "class Hewan:\n",
        "  def bersuara(self):\n",
        "    print('Kucing bersuara')\n",
        "\n",
        "#child class\n",
        "class Kucing(Hewan):\n",
        "  def suara(self):\n",
        "    print('meong...meong...meong...')\n",
        "\n",
        "#child class anak kucing\n",
        "class AnakKucing(Kucing):\n",
        "  def minum(self):\n",
        "    print('minum susu')\n",
        "\n",
        "#objek\n",
        "ak=AnakKucing()\n",
        "ak.bersuara()\n",
        "ak.suara()\n",
        "ak.minum()\n"
      ],
      "metadata": {
        "colab": {
          "base_uri": "https://localhost:8080/"
        },
        "id": "jQLvnAOu_ah3",
        "outputId": "20a45263-1e78-4aec-d1ec-05e341319d3a"
      },
      "execution_count": null,
      "outputs": [
        {
          "output_type": "stream",
          "name": "stdout",
          "text": [
            "Kucing bersuara\n",
            "meong...meong...meong...\n",
            "minum susu\n"
          ]
        }
      ]
    },
    {
      "cell_type": "code",
      "source": [
        "#hierarki parent\n",
        "#class parent\n",
        "class Induk:\n",
        "  def fungsiInduk(self):\n",
        "    print('Fungsi pada parent class.')\n",
        "\n",
        "#class turunan1\n",
        "class Anak1(Induk):\n",
        "  def fungsianak1(self):\n",
        "    print('Fungsi anak 1.')\n",
        "\n",
        "#class turunan2\n",
        "class Anak2(Induk):\n",
        "  def fungsianak2(self):\n",
        "    print('Fungsi anak 2.')\n",
        "\n",
        "a1=Anak1()\n",
        "a2=Anak2()\n",
        "\n",
        "a1.fungsiInduk()\n",
        "a1.fungsianak1()\n",
        "\n",
        "a2.fungsiInduk()\n",
        "a2.fungsianak2()\n"
      ],
      "metadata": {
        "colab": {
          "base_uri": "https://localhost:8080/"
        },
        "id": "jO7UP0bHAUKh",
        "outputId": "a461f7b8-52ed-400a-ab3b-9b6460cbd6f2"
      },
      "execution_count": null,
      "outputs": [
        {
          "output_type": "stream",
          "name": "stdout",
          "text": [
            "Fungsi pada parent class.\n",
            "Fungsi anak 1.\n",
            "Fungsi pada parent class.\n",
            "Fungsi anak 2.\n"
          ]
        }
      ]
    },
    {
      "cell_type": "code",
      "source": [
        "#multiple inheritance\n",
        "\n",
        "#parent1\n",
        "class Perhitungan1:\n",
        "  def penjumlahan(self,a,b):\n",
        "    return a+b\n",
        "\n",
        "#child\n",
        "class Perhitungan2:\n",
        "  def perkalian(self,a,b):\n",
        "    return a*b\n",
        "\n",
        "#child\n",
        "class Hitung(Perhitungan1, Perhitungan2):\n",
        "  def pembagian(self,a,b):\n",
        "    return a/b\n",
        "\n",
        "h=Hitung()\n",
        "print(h.penjumlahan(20,30))\n",
        "print(h.perkalian(5,4))\n",
        "print(h.pembagian(6,12))\n"
      ],
      "metadata": {
        "colab": {
          "base_uri": "https://localhost:8080/"
        },
        "id": "2z_mELA9BuAV",
        "outputId": "400133d7-94df-49d4-9a88-5a27404cbbe1"
      },
      "execution_count": null,
      "outputs": [
        {
          "output_type": "stream",
          "name": "stdout",
          "text": [
            "50\n",
            "20\n",
            "0.5\n"
          ]
        }
      ]
    },
    {
      "cell_type": "code",
      "source": [
        "class ComputerPart():  \n",
        "  def __init__(self,pabrikan,nama,jenis): \n",
        "    self.pabrikan = pabrikan \n",
        "    self.nama = nama \n",
        "    self.jenis = jenis \n",
        "\n",
        "class CentralProcessingUnit(ComputerPart): \n",
        "  def __init__(self,pabrikan,nama,harga): \n",
        "    super().__init__(pabrikan,nama,'CPU') \n",
        "\n",
        "class RandomAccesMemory(CentralProcessingUnit): \n",
        "  def __init__(self,pabrikan,nama,harga): \n",
        "    super().__init__(pabrikan,nama,'RAM') \n",
        "\n",
        "class HardDiskSATA(RandomAccesMemory): \n",
        "  def __init__(self,pabrikan,nama): \n",
        "    super().__init__(pabrikan,nama,'SATA')\n",
        "\n",
        "pc = ComputerPart('','PC GAMING SATRIA R','') \n",
        "cpu = CentralProcessingUnit('','IntelCore i7 7740X 4,3GHz',0) \n",
        "ram = RandomAccesMemory('','V-Gen DDR4 SODimm PC19200/2400MHz',0) \n",
        "hdd = HardDiskSATA('','Seagate HDD 2.5 inch 500GB') \n",
        "\n",
        "print(pc.nama)\n",
        "print(cpu.nama)\n",
        "print(ram.nama)\n",
        "print(hdd.nama)\n"
      ],
      "metadata": {
        "colab": {
          "base_uri": "https://localhost:8080/"
        },
        "id": "COFCzWZX3P5i",
        "outputId": "fcff1fb8-b5ee-4e92-9750-3ff9801d8015"
      },
      "execution_count": 1,
      "outputs": [
        {
          "output_type": "stream",
          "name": "stdout",
          "text": [
            "PC GAMING SATRIA R\n",
            "IntelCore i7 7740X 4,3GHz\n",
            "V-Gen DDR4 SODimm PC19200/2400MHz\n",
            "Seagate HDD 2.5 inch 500GB\n"
          ]
        }
      ]
    },
    {
      "cell_type": "code",
      "source": [
        "#HIERARCHICAL INHERITANCE\n",
        "\n",
        "class ComputerPart(): \n",
        "  def __init__(self,pabrikan,nama,jenis): \n",
        "    self.pabrikan = pabrikan \n",
        "    self.nama = nama \n",
        "    self.jenis = jenis\n",
        "  \n",
        "class CentralProcessingUnit(ComputerPart): \n",
        "  def __init__(self,pabrikan,nama,harga,kapasitas): \n",
        "    super().__init__(pabrikan,nama,'CPU') \n",
        "    self.kapasitas = kapasitas \n",
        "  def harga_cpu(self):\n",
        "    print('Harga: Rp 3.000.000')\n",
        "\n",
        "class GraphicsCard(ComputerPart):\n",
        "  def __init__(self,pabrikan,nama,harga,kapasitas): \n",
        "    super().__init__(pabrikan,nama,'VGA') \n",
        "    self.kapasitas = kapasitas \n",
        "  def harga_vga(self): \n",
        "    print('Harga: Rp 3.150.000')\n",
        "\n",
        "class RandomAccesMemory(ComputerPart):\n",
        "  def __init__(self,pabrikan,nama,harga,kapasitas): \n",
        "    super().__init__(pabrikan,nama,'RAM') \n",
        "    self.kapasitas = kapasitas \n",
        "  def harga_ram(self): \n",
        "    print('Harga: Rp 2.000.000')\n",
        "\n",
        "class HardDiskSATA(ComputerPart): \n",
        "  def __init__(self,pabrikan,nama,kapasitas,rpm): \n",
        "    super().__init__(pabrikan,nama,'SATA') \n",
        "    self.kapasitas = kapasitas \n",
        "    self.rpm = rpm \n",
        "  def harga_hdd(self): \n",
        "    print('Harga: Rp 1.250.000')\n",
        "\n",
        "cpu = CentralProcessingUnit('','Intel Core i7 7740x 4.3GHz',0,'')\n",
        "vga = GraphicsCard('','NVIDIA RTX 3080 TI 35000000 12 1670',0,'') \n",
        "ram = RandomAccesMemory('','V-Gen DDR4 SODimm PC19200/2400MHz',0,'') \n",
        "hdd = HardDiskSATA('','Seagate HDD 2.5 inch 500GB',0,'') \n",
        "\n",
        "\n",
        "print(cpu.nama)\n",
        "cpu.harga_cpu()\n",
        "print(vga.nama)\n",
        "vga.harga_vga()\n",
        "print(ram.nama)\n",
        "ram.harga_ram()\n",
        "print(hdd.nama)\n",
        "hdd.harga_hdd()"
      ],
      "metadata": {
        "id": "8I8fnf6b3adj"
      },
      "execution_count": null,
      "outputs": []
    },
    {
      "cell_type": "code",
      "source": [
        "#MUTIPLE INHERITANCE\n",
        "\n",
        "class CentralProcessingUnit(): \n",
        "  def __init__(self,nama_cpu,harga_cpu): \n",
        "    self.nama_cpu = nama_cpu \n",
        "    self.harga_cpu = harga_cpu\n",
        "\n",
        "class  GraphicsCard():\n",
        "  def __init__(self,nama_vga,harga_vga): \n",
        "    self.nama_vga = nama_vga \n",
        "    self.harga_vga = harga_vga \n",
        "\n",
        "class RandomAccesMemory(): \n",
        "  def __init__(self,nama_ram,harga_ram): \n",
        "    self.nama_ram = nama_ram \n",
        "    self.harga_ram = harga_ram \n",
        "\n",
        "class HardDiskSATA(): \n",
        "  def __init__(self,nama_hdd,harga_hdd): \n",
        "    self.nama_hdd = nama_hdd \n",
        "    self.harga_hdd = harga_hdd \n",
        "\n",
        "\n",
        "class ComputerPart(CentralProcessingUnit,GraphicsCard,RandomAccesMemory,HardDiskSATA): \n",
        "  def __init__(self,nama_cpu,harga_cpu,nama_vga,harga_vga,nama_ram,harga_ram,nama_hdd,harga_hdd): \n",
        "    CentralProcessingUnit.__init__(self,nama_cpu,harga_cpu) \n",
        "    GraphicsCard.__init__(self,nama_vga,harga_vga) \n",
        "    RandomAccesMemory.__init__(self,nama_ram,harga_ram) \n",
        "    HardDiskSATA.__init__(self,nama_hdd,harga_hdd) \n",
        "\n",
        "\n",
        "pc = ComputerPart('Intel Core i 7740x 4.3GHz','Rp 3.000.000','NVIDIA RTX 3080 TI 35000000 12 1670','Rp 3.150.000','V-Gen DDR4 SODimm PC19200/2400MHz','Rp 2.000.000','Seagate HDD 2.5 inch 500GB','Rp 1.250.000')\n",
        "\n",
        "print(pc.nama_cpu,pc.harga_cpu)\n",
        "print(pc.nama_vga,pc.harga_vga)\n",
        "print(pc.nama_ram,pc.harga_ram)\n",
        "print(pc.nama_hdd,pc.harga_hdd)"
      ],
      "metadata": {
        "id": "SFlaV_ty3csG"
      },
      "execution_count": null,
      "outputs": []
    }
  ]
}