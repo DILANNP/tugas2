{
  "nbformat": 4,
  "nbformat_minor": 0,
  "metadata": {
    "colab": {
      "name": "perpusitem.ps.2.2.ipynb",
      "provenance": [],
      "collapsed_sections": [],
      "authorship_tag": "ABX9TyPuG+qyak0knUpps6s9dCjA",
      "include_colab_link": true
    },
    "kernelspec": {
      "name": "python3",
      "display_name": "Python 3"
    },
    "language_info": {
      "name": "python"
    }
  },
  "cells": [
    {
      "cell_type": "markdown",
      "metadata": {
        "id": "view-in-github",
        "colab_type": "text"
      },
      "source": [
        "<a href=\"https://colab.research.google.com/github/DILANNP/tugas2/blob/main/perpusitem_ps_2_2.ipynb\" target=\"_parent\"><img src=\"https://colab.research.google.com/assets/colab-badge.svg\" alt=\"Open In Colab\"/></a>"
      ]
    },
    {
      "cell_type": "code",
      "execution_count": null,
      "metadata": {
        "id": "1n38MoJzHWAo",
        "colab": {
          "base_uri": "https://localhost:8080/"
        },
        "outputId": "682d9f5d-3223-4455-b53f-3ba52ac1767e"
      },
      "outputs": [
        {
          "output_type": "stream",
          "name": "stdout",
          "text": [
            "Pemrograman Python Buku Rak nomor 1 Dipinjam\n",
            "Dunia Komputer Majalah Rak nomer 2 ada\n",
            "Shingeki no kyojin DVD Rak nomor 3 ada\n",
            "Saitama Komik Rak nomer 4 Dipinjam\n"
          ]
        }
      ],
      "source": [
        "#Modifikasi class diagram\n",
        "\n",
        "class PerpusItem:\n",
        "  def __init__(self, judul, subjek, lokasi, info):\n",
        "    self.judul = judul\n",
        "    self.subjek = subjek\n",
        "    self.lokasi = lokasi\n",
        "    self.info = info\n",
        "\n",
        "  '''def lokasiSimpan(self):\n",
        "   self.lokasi = lokasi\n",
        "   self.info = info\n",
        "'''\n",
        "\n",
        "class Buku(PerpusItem):\n",
        "  def __init__(self,judul,subjek,lokasi,info,isbn,pengarang,jmlhal,ukuran):\n",
        "    super().__init__(judul,'Buku',lokasi,info)\n",
        "    self.isbn = isbn\n",
        "    self.pengarang = pengarang\n",
        "    self.jmlhal = jmlhal\n",
        "    self.ukuran = ukuran\n",
        "\n",
        "class Majalah(PerpusItem):\n",
        "  def __init__(self,judul,subjek,lokasi,info,volume,issue):\n",
        "    super().__init__(judul,'Majalah',lokasi,info)\n",
        "    self.volume = volume\n",
        "    self.issue = issue\n",
        "\n",
        "class DVD(PerpusItem):\n",
        "  def __init__(self,judul,subjek,lokasi,info,aktor,genre):\n",
        "    super().__init__(judul,'DVD',lokasi,info)\n",
        "    self.aktor = aktor\n",
        "    self.genre = genre\n",
        "\n",
        "class Komik(PerpusItem):\n",
        "  def __init__(self,judul,subjek,lokasi,info,tema,terbit):\n",
        "    super().__init__(judul,'Komik',lokasi,info)\n",
        "    self.tema = tema\n",
        "    self.terbit = terbit\n",
        "\n",
        "b = Buku('Pemrograman Python','Buku Cetak','Rak nomor 1','Dipinjam','945-884-98-02','Yogi Syarif',2,'25x15')\n",
        "m = Majalah('Dunia Komputer','Majalah Cetak','Rak nomer 2','ada','VII','Komputer')\n",
        "d = DVD('Shingeki no kyojin','sofcopy','Rak nomor 3','ada','Mikasa','Anime')\n",
        "n = Komik('Saitama','Komik Jepang','Rak nomer 4','Dipinjam','Superhero','2012')\n",
        "\n",
        "daftar = [b,m,d,n]\n",
        "for dft in daftar:\n",
        "  print('{} {} {} {}'.format(dft.judul,dft.subjek,dft.lokasi,dft.info))"
      ]
    },
    {
      "cell_type": "code",
      "source": [
        "class PerpusItem:\n",
        "  def __init__(self, judul, subjek, lokasi, info):\n",
        "    self.judul = judul\n",
        "    self.subjek = subjek\n",
        "    self.lokasi = lokasi\n",
        "    self.info = info\n",
        "\n",
        "  '''def lokasiSimpan(self):\n",
        "   self.lokasi = lokasi\n",
        "   self.info = info\n",
        "'''\n",
        "\n",
        "class Buku(PerpusItem):\n",
        "  def __init__(self,judul,subjek,lokasi,info,isbn,pengarang,jmlhal,ukuran):\n",
        "    super().__init__(judul,'Buku',lokasi,info)\n",
        "    self.isbn = isbn\n",
        "    self.pengarang = pengarang\n",
        "    self.jmlhal = jmlhal\n",
        "    self.ukuran = ukuran\n",
        "\n",
        "class Majalah(PerpusItem):\n",
        "  def __init__(self,judul,subjek,lokasi,info,volume,issue):\n",
        "    super().__init__(judul,'Majalah',lokasi,info)\n",
        "    self.volume = volume\n",
        "    self.issue = issue\n",
        "\n",
        "class DVD(PerpusItem):\n",
        "  def __init__(self,judul,subjek,lokasi,info,aktor,genre):\n",
        "    super().__init__(judul,'DVD',lokasi,info)\n",
        "    self.aktor = aktor\n",
        "    self.genre = genre\n",
        "\n",
        "b = Buku('Pemrograman Python','Buku Cetak','Rak nomor 1','Dipinjam','945-884-98-02','Yogi Syarif',2,'25x15')\n",
        "m = Majalah('Dunia Komputer','Majalah Cetak','Rak nomer 2','ada','VII','Komputer')\n",
        "d = DVD('Shingeki no kyojin','sofcopy','Rak nomor 3','ada','Mikasa','Anime')\n",
        "\n",
        "daftar = [b,m,d,]\n",
        "for dft in daftar:\n",
        "  print('{} {} {} {}'.format(dft.judul,dft.subjek,dft.lokasi,dft.info))"
      ],
      "metadata": {
        "id": "1emEDwuxay3y"
      },
      "execution_count": null,
      "outputs": []
    },
    {
      "cell_type": "code",
      "source": [
        "#Modifikasi menu cari buku\n",
        "\n",
        "import os\n",
        "def perpusItem (msg):\n",
        "  input(msg)\n",
        "  if os.name == \"posix\":\n",
        "    os.system(\"clear\")\n",
        "  else:\n",
        "    os.system(\"cls\")\n",
        "\n",
        "def mainMenu(x):\n",
        "  if x == \"1\":\n",
        "    readal1()\n",
        "\n",
        "  elif x == \"2\":\n",
        "    judul = input(\"Masukan Judul Buku : \")\n",
        "    create(judul)\n",
        "\n",
        "  elif x == \"3\":\n",
        "    judul = input(\"Input Judul Yang Dicari : \")\n",
        "    readone(judul)\n",
        "\n",
        "  elif x == \"4\":\n",
        "    judul = input(\"Input Judul Yang Dicari : \")\n",
        "    delete(judul)\n",
        "\n",
        "  elif x == \"5\":\n",
        "    print(\"Program Shutting Down..\")\n",
        "\n",
        "  else:\n",
        "    print(\"Option Not Found.\")\n",
        "\n",
        "def create(judul):\n",
        "  buku.append(judul)\n",
        "  perpusItem(\"Data berhasil ditambahkan, Press any key to continue..\")\n",
        "\n",
        "def readal1():\n",
        "  print(\"Daftar Buku : \")\n",
        "  no = 1\n",
        "  for i in buku:\n",
        "    print(str(no)+\",\"+i)\n",
        "    no +=1\n",
        "    perpusItem(\"Press any key to continue...\")\n",
        "\n",
        "def readone(judul):\n",
        "  filter_object = filter(lambda a: judul in a, buku)\n",
        "  p = list(filter_object)\n",
        "  if(not p):\n",
        "    perpusItem(\"Data tidak ditemukan, Press any key to continue...\")\n",
        "  else:\n",
        "    perpusItem(\"Buku berjudul '\"+\",\".join(p)+\"' berhasil ditemukan.\")\n",
        "\n",
        "def delete(judul):\n",
        "  if buku.count(judul) >= 1:\n",
        "    buku.remove(judul)\n",
        "    perpusItem(\"Data berhasil dihapus, Press any key to continue...\")\n",
        "  else: \n",
        "    perpusItem(\"Buku tidak ditemukan.Harap mengetik secara detail untuk keamanan.\")\n",
        "\n",
        "buku = [\"suara orang kampung\", \"mimpi orang sinting\", \"Hikayat Pohon Ganja\", \"Dunia Yang Dsembunyikan\"]\n",
        "\n",
        "x = \"0\"\n",
        "while x != \"5\":\n",
        "  print(\"Program Perpustakaan UTY\")\n",
        "  print(\"[1] Tampilkan Semua Data Buku\")\n",
        "  print(\"[2] Tambahkan Data Buku\")\n",
        "  print(\"[3] Cari Buku\")\n",
        "  print(\"[4] Hapus Buku\")\n",
        "  print(\"[5] Exit\")\n",
        "  print()\n",
        "\n",
        "  x = input(\"Pilihan : \")\n",
        "  mainMenu(x)\n"
      ],
      "metadata": {
        "colab": {
          "base_uri": "https://localhost:8080/"
        },
        "id": "H6CrQ2O6Saam",
        "outputId": "1c17df7c-e24b-44f1-b546-d59a539d66b3"
      },
      "execution_count": 4,
      "outputs": [
        {
          "output_type": "stream",
          "name": "stdout",
          "text": [
            "Program Perpustakaan UTY\n",
            "[1] Tampilkan Semua Data Buku\n",
            "[2] Tambahkan Data Buku\n",
            "[3] Cari Buku\n",
            "[4] Hapus Buku\n",
            "[5] Exit\n",
            "\n",
            "Pilihan : 5\n",
            "Program Shutting Down..\n"
          ]
        }
      ]
    }
  ]
}