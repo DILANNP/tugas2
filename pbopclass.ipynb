{
  "nbformat": 4,
  "nbformat_minor": 0,
  "metadata": {
    "colab": {
      "name": "pbopclass.ipynb",
      "provenance": [],
      "collapsed_sections": [],
      "authorship_tag": "ABX9TyO/b0Y/61zEqnZLO295eua9",
      "include_colab_link": true
    },
    "kernelspec": {
      "name": "python3",
      "display_name": "Python 3"
    },
    "language_info": {
      "name": "python"
    }
  },
  "cells": [
    {
      "cell_type": "markdown",
      "metadata": {
        "id": "view-in-github",
        "colab_type": "text"
      },
      "source": [
        "<a href=\"https://colab.research.google.com/github/DILANNP/tugas2/blob/main/pbopclass.ipynb\" target=\"_parent\"><img src=\"https://colab.research.google.com/assets/colab-badge.svg\" alt=\"Open In Colab\"/></a>"
      ]
    },
    {
      "cell_type": "code",
      "execution_count": null,
      "metadata": {
        "colab": {
          "base_uri": "https://localhost:8080/"
        },
        "id": "3P7KM_mY0uly",
        "outputId": "880a1b94-bb80-4244-ccad-52146b6a1806"
      },
      "outputs": [
        {
          "output_type": "stream",
          "name": "stdout",
          "text": [
            "Titik A memiliki koordinat (0,0)\n",
            "Titik B memiliki koordinat (3,4)\n"
          ]
        }
      ],
      "source": [
        "class Titik:\n",
        "  def __init__(self,x,y):\n",
        "    self.x = x\n",
        "    self.y = y\n",
        "\n",
        "titik_a = Titik(0,0)\n",
        "titik_b = Titik(3,4)\n",
        "print(\"Titik A memiliki koordinat ({},{})\".format(titik_a.x,titik_a.y))\n",
        "print(\"Titik B memiliki koordinat ({},{})\".format(titik_b.x,titik_b.y))\n",
        "\n"
      ]
    },
    {
      "cell_type": "code",
      "source": [
        "class MenuMinuman:\n",
        "  def __init__(self,nama,deskripsi,harga):\n",
        "    self.nama = nama\n",
        "    self.deskripsi = deskripsi\n",
        "    self.harga = harga\n",
        "\n",
        "mnm1 = MenuMinuman('Jus Jambu','Jus jambu merah tanpa gula',8500)\n",
        "mnm2 = MenuMinuman('Jus Alpukat Ori','Jus alpukat dengan campuran susu cokelat dan campuran kepingan choco',15000)\n",
        "mnm3 = MenuMinuman('Jus alpukat xtra milk','jus alpukat tambahan gula merah',15000)\n",
        "mnm4 = MenuMinuman('red & smooth','shmoothie pisang susu dengan strawberry',15000)\n",
        "\n",
        "pilihan_minuman = [mnm1,mnm2,mnm3,mnm4]\n",
        "print(\"daftar menu healthy fruits\")\n",
        "for mn in pilihan_minuman:\n",
        "    t = '{} harga Rp {}'.format(mn.nama,mn.harga,mn.deskripsi)\n",
        "    print(t)"
      ],
      "metadata": {
        "colab": {
          "base_uri": "https://localhost:8080/"
        },
        "id": "WWDf6Cp42GEY",
        "outputId": "37ac43c1-dc61-4d00-e85a-72fee8e11513"
      },
      "execution_count": null,
      "outputs": [
        {
          "output_type": "stream",
          "name": "stdout",
          "text": [
            "daftar menu healthy fruits\n",
            "Jus Jambu harga Rp 8500\n",
            "Jus Alpukat Ori harga Rp 15000\n",
            "Jus alpukat xtra milk harga Rp 15000\n",
            "red & smooth harga Rp 15000\n"
          ]
        }
      ]
    },
    {
      "cell_type": "code",
      "source": [
        "class Buku:\n",
        "  def __init__(self,judul,pengarang,tahun_terbit):\n",
        "    self.judul = judul\n",
        "    self.pengarang = pengarang\n",
        "    self.tahun_terbit = tahun_terbit\n",
        "\n",
        "buku = Buku('Tenggelamnya kapal van der wijk','HAMKA',1938)\n",
        "t = 'Buku {} karangan {} pertama kali diterbitkan tahun {}'.format(buku.judul,buku.pengarang,buku.tahun_terbit)\n",
        "print(t)"
      ],
      "metadata": {
        "colab": {
          "base_uri": "https://localhost:8080/"
        },
        "id": "3cgRGiSw7QVW",
        "outputId": "a7bdd64c-f3db-4797-8292-cf1a94c7079c"
      },
      "execution_count": null,
      "outputs": [
        {
          "output_type": "stream",
          "name": "stdout",
          "text": [
            "Buku Tenggelamnya kapal van der wijk karangan HAMKA pertama kali diterbitkan tahun 1938\n"
          ]
        }
      ]
    },
    {
      "cell_type": "code",
      "source": [
        "# titik dibentuk posisi pada sumbu x dan y\n",
        "class Titik:\n",
        "  def __init__(self,x,y):\n",
        "    self.x = x\n",
        "    self.y = y\n",
        "\n",
        "# garis dibentuk dari dua titik\n",
        "class Garis:\n",
        "  def __init__(self,titik_pertama,titik_kedua):\n",
        "    self.titik_pertama = titik_pertama\n",
        "    self.titik_kedua = titik_kedua\n",
        "\n",
        "  def panjang(self):\n",
        "    pjg_x = self.titik_kedua.x - self.titik_pertama.x\n",
        "    pjg_y = self.titik_kedua.y - self.titik_pertama.y\n",
        "    pjg = (pjg_x**2 + pjg_y**2) ** 0.5\n",
        "    return pjg\n",
        "\n",
        "titik_a = Titik(0,0)\n",
        "titik_b = Titik(3,4)\n",
        "garis_ab = Garis(titik_a,titik_b)\n",
        "print('panjang garis ab adalah {}'.format(garis_ab.panjang()))"
      ],
      "metadata": {
        "colab": {
          "base_uri": "https://localhost:8080/"
        },
        "id": "tdgLyEyA8ckl",
        "outputId": "552191b3-b3f6-4a89-83e2-b2130944994c"
      },
      "execution_count": null,
      "outputs": [
        {
          "output_type": "stream",
          "name": "stdout",
          "text": [
            "panjang garis ab adalah 5.0\n"
          ]
        }
      ]
    },
    {
      "cell_type": "code",
      "source": [
        "class Mahasiswa:\n",
        "  def __init__(self,nama,nim,prodi,thn_masuk):\n",
        "    self.nama = nama\n",
        "    self.nim = nim\n",
        "    self.prodi = prodi\n",
        "    self.thn_masuk = thn_masuk\n",
        "\n",
        "m1 = Mahasiswa('Udin','10120371','sistem informasi',2020)\n",
        "teks = '{} adalah mahasiswa {} angkatan {} dengan nim {}'.format(m1.nama,m1.prodi,m1.thn_masuk,m1.nim)\n",
        "print(teks)"
      ],
      "metadata": {
        "colab": {
          "base_uri": "https://localhost:8080/"
        },
        "id": "GiPMrjaA89a7",
        "outputId": "48ab15a8-7da5-4bbb-c310-e749824c398e"
      },
      "execution_count": null,
      "outputs": [
        {
          "output_type": "stream",
          "name": "stdout",
          "text": [
            "Udin adalah mahasiswa sistem informasi angkatan 2020 dengan nim 10120371\n"
          ]
        }
      ]
    },
    {
      "cell_type": "code",
      "source": [
        "class MenuMinuman:\n",
        "  def __init__(self,nama,deskripsi,ukuran,jumlah,harga):\n",
        "    self.nama = nama\n",
        "    self.deskripsi = deskripsi\n",
        "    self.ukuran = ukuran\n",
        "    self.jumlah = jumlah\n",
        "    self.harga = harga\n",
        "\n",
        "mnm1 = MenuMinuman('Jus Jambu','Jus jambu merah tanpa gula','besar',2,8500)\n",
        "mnm2 = MenuMinuman('Jus Alpukat Ori','Jus alpukat dengan campuran susu cokelat dan campuran kepingan choco','kecil',1,15000)\n",
        "mnm3 = MenuMinuman('Jus alpukat xtra milk','jus alpukat tambahan gula merah','sedang',1,15000)\n",
        "mnm4 = MenuMinuman('red & smooth','shmoothie pisang susu dengan strawberry','besar',3,30000)\n",
        "\n",
        "pilihan_minuman = [mnm1,mnm2,mnm3,mnm4]\n",
        "print(\"daftar menu healthy fruits\")\n",
        "for mn in pilihan_minuman:\n",
        "    t = '{} ukuran {} jumlah {} harga Rp {}'.format(mn.nama,mn.ukuran,mn.jumlah,mn.harga)\n",
        "    print(t)"
      ],
      "metadata": {
        "id": "IVB3_y5wGBLn"
      },
      "execution_count": null,
      "outputs": []
    },
    {
      "cell_type": "code",
      "source": [
        "class Mahasiswa:\n",
        "  def __init__(self,nama,nim,prodi,asal,umur,thn_masuk):\n",
        "    self.nama = nama\n",
        "    self.nim = nim\n",
        "    self.prodi = prodi\n",
        "    self.asal = asal\n",
        "    self.umur = umur\n",
        "    self.thn_masuk = thn_masuk\n",
        "\n",
        "m1 = Mahasiswa('Udin','10120371','sistem informasi','magetan',18,2020)\n",
        "teks = '{} adalah mahasiswa {} angkatan {} dengan nim {} asal {} umur {}'.format(m1.nama,m1.prodi,m1.thn_masuk,m1.nim,m1.asal,m1.umur)\n",
        "print(teks)"
      ],
      "metadata": {
        "id": "PmHhhPEqGKfh"
      },
      "execution_count": null,
      "outputs": []
    },
    {
      "cell_type": "code",
      "source": [
        "class Buku:\n",
        "  def __init__(self,judul,pengarang,tahun_terbit,harga,diskon):\n",
        "    self.judul = judul\n",
        "    self.pengarang = pengarang\n",
        "    self.tahun_terbit = tahun_terbit\n",
        "    self.harga = harga\n",
        "    self.diskon = diskon\n",
        "\n",
        "buku = Buku('Tenggelamnya kapal van der wijk','HAMKA',1938,45000,'10%')\n",
        "t = 'Buku {} karangan {} pertama kali diterbitkan tahun {} harga Rp {} diskon {}'.format(buku.judul,buku.pengarang,buku.tahun_terbit,buku.harga,buku.diskon)\n",
        "print(t)"
      ],
      "metadata": {
        "id": "gh2z98hRGRee"
      },
      "execution_count": null,
      "outputs": []
    }
  ]
}